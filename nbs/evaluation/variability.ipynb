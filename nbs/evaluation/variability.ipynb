{
 "cells": [
  {
   "cell_type": "markdown",
   "id": "345a1b27-1df4-40e8-a2f9-0ff817ad8241",
   "metadata": {
    "tags": []
   },
   "source": [
    "# Evaluation of variability of diffusion model training and sampling for 60km -> 2.2km-4x over Birmingham\n",
    "\n",
    "Compare different model runs based on inputs:\n",
    "\n",
    "* PslTV\n",
    "\n",
    "For each version: inputs are standardized; target is sqrt, divided by max to put on [0,1] then recentred to [-1,1]\n",
    "\n",
    "NO PIXELMMS\n",
    "\n",
    "## Diff model\n",
    "\n",
    "8-channels loc-spec params\n",
    "\n",
    "Inputs: all at 5 levels\n",
    "\n",
    "Target domain and resolution: 64x64 2.2km-4x England and Wales\n",
    "\n",
    "Input resolution: 60km/gcmx\n",
    "\n",
    "Input transforms are fitted on dataset in use (ie separate GCM and CPM versions) while target transform is fitted only at training on the CPM dataset"
   ]
  },
  {
   "cell_type": "code",
   "execution_count": null,
   "id": "48718f5d-f1f8-4ccc-8089-a90b8e505b7c",
   "metadata": {
    "tags": []
   },
   "outputs": [
    {
     "name": "stdout",
     "output_type": "stream",
     "text": [
      "Pysteps configuration file found at: /user/home/vf20964/miniconda3/envs/downscaling-notebooks/lib/python3.9/site-packages/pysteps/pystepsrc\n",
      "\n"
     ]
    }
   ],
   "source": [
    "%reload_ext autoreload\n",
    "\n",
    "%autoreload 2\n",
    "\n",
    "import math\n",
    "import os\n",
    "\n",
    "import iris\n",
    "import iris.analysis.cartography\n",
    "import IPython\n",
    "import matplotlib\n",
    "import matplotlib.pyplot as plt\n",
    "import numpy as np\n",
    "import pysteps\n",
    "import xarray as xr\n",
    "\n",
    "from ml_downscaling_emulator.helpers import plot_over_ts\n",
    "from ml_downscaling_emulator.utils import cp_model_rotated_pole, plot_grid, prep_eval_data, show_samples, distribution_figure, plot_mean_bias, plot_std_bias, plot_psd"
   ]
  },
  {
   "cell_type": "markdown",
   "id": "1104e57b-f3c0-4a56-831a-ba99d91f05a4",
   "metadata": {
    "tags": []
   },
   "source": [
    "## Full training and validation set"
   ]
  },
  {
   "cell_type": "code",
   "execution_count": null,
   "id": "73af3c99-77cd-4116-8ff0-246923ff2f20",
   "metadata": {
    "tags": []
   },
   "outputs": [
    {
     "name": "stdout",
     "output_type": "stream",
     "text": [
      "Frozen({'time': 4320, 'grid_latitude': 64, 'grid_longitude': 64, 'model': 4, 'source': 2, 'sample_id': 3, 'bnds': 2})\n",
      "Coordinates:\n",
      "  * time            (time) object 1980-12-03 12:00:00 ... 2080-11-20 12:00:00\n",
      "  * grid_latitude   (grid_latitude) float32 -2.49 -2.41 -2.33 ... 2.39 2.47 2.55\n",
      "  * grid_longitude  (grid_longitude) float32 357.9 358.0 358.1 ... 362.9 363.0\n",
      "  * model           (model) object 'Run 1' 'Run 2' 'Run 3' 'Run 4'\n",
      "    season          (time) int64 0 0 0 0 0 0 0 0 0 0 0 ... 3 3 3 3 3 3 3 3 3 3 3\n",
      "  * source          (source) object 'CPM' 'GCM'\n",
      "Data variables:\n",
      "    rotated_latitude_longitude  (source, model, sample_id, time) float64 -2.1...\n",
      "    time_bnds                   (source, model, sample_id, time, bnds) object ...\n",
      "    grid_latitude_bnds          (source, model, sample_id, time, grid_latitude, bnds) float32 ...\n",
      "    grid_longitude_bnds         (source, model, sample_id, time, grid_longitude, bnds) float32 ...\n",
      "    pred_pr                     (source, model, sample_id, time, grid_latitude, grid_longitude) float32 ...\n",
      "    psl                         (source, time, grid_latitude, grid_longitude) float32 ...\n",
      "    target_pr                   (source, time, grid_latitude, grid_longitude) float32 ...\n",
      "    temp250                     (source, time, grid_latitude, grid_longitude) float32 ...\n",
      "    temp500                     (source, time, grid_latitude, grid_longitude) float32 ...\n",
      "    temp700                     (source, time, grid_latitude, grid_longitude) float32 ...\n",
      "    temp850                     (source, time, grid_latitude, grid_longitude) float32 ...\n",
      "    temp925                     (source, time, grid_latitude, grid_longitude) float32 ...\n",
      "    vorticity250                (source, time, grid_latitude, grid_longitude) float64 ...\n",
      "    vorticity500                (source, time, grid_latitude, grid_longitude) float64 ...\n",
      "    vorticity700                (source, time, grid_latitude, grid_longitude) float64 ...\n",
      "    vorticity850                (source, time, grid_latitude, grid_longitude) float64 ...\n",
      "    vorticity925                (source, time, grid_latitude, grid_longitude) float64 ...\n"
     ]
    }
   ],
   "source": [
    "split = \"val\"\n",
    "data_config = [\n",
    "    dict(\n",
    "        datasets = {\n",
    "            \"CPM\": \"bham_gcmx-4x_psl-temp-vort_random\",\n",
    "            \"GCM\": \"bham_60km-4x_psl-temp-vort_random\",\n",
    "        },\n",
    "        runs = [\n",
    "            (\"score-sde/subvpsde/xarray_cncsnpp_continuous/bham-4x_PslTV_random-IstanTsqrturrecen\", \"epoch-100\", \"Run 1\"),\n",
    "            (\"score-sde/subvpsde/xarray_cncsnpp_continuous/bham-4x_PslTV_random-IstanTsqrturrecen-2\", \"epoch-100\", \"Run 2\"),\n",
    "            (\"score-sde/subvpsde/xarray_cncsnpp_continuous/bham-4x_PslTV_random-IstanTsqrturrecen-3\", \"epoch-100\", \"Run 3\"),\n",
    "            (\"score-sde/subvpsde/xarray_cncsnpp_continuous/bham-4x_PslTV_random-IstanTsqrturrecen-4\", \"epoch-100\", \"Run 4\"),\n",
    "        ]\n",
    "    ),\n",
    "]\n",
    "\n",
    "merged_ds = xr.merge([ prep_eval_data(c[\"datasets\"], c[\"runs\"], split) for c in data_config ])\n",
    "\n",
    "print(merged_ds.dims)\n",
    "print(merged_ds.coords)\n",
    "print(merged_ds.data_vars)\n",
    "\n",
    "quantiles = np.concatenate([np.linspace((1-10**(i+1))+(10**i), (1-10**i), 9) for i in range(-1, -8, -1)])\n",
    "\n",
    "target_pr = merged_ds.sel(source=\"CPM\")[\"target_pr\"]\n",
    "\n",
    "distribution_figure(merged_ds, target_pr, quantiles, \"Distribution of pixel values\")\n",
    "\n",
    "plot_mean_bias(merged_ds)"
   ]
  },
  {
   "cell_type": "markdown",
   "id": "828be179-6599-428c-a013-18fad0ab4c00",
   "metadata": {
    "tags": []
   },
   "source": [
    "## 50% training set, full validation"
   ]
  },
  {
   "cell_type": "code",
   "execution_count": null,
   "id": "5bbd9e74-8337-4859-91dd-9739160e4c84",
   "metadata": {
    "tags": []
   },
   "outputs": [
    {
     "name": "stdout",
     "output_type": "stream",
     "text": [
      "Frozen({'time': 4320, 'grid_latitude': 64, 'grid_longitude': 64, 'model': 3, 'source': 2, 'sample_id': 3, 'bnds': 2})\n",
      "Coordinates:\n",
      "  * time            (time) object 1980-12-03 12:00:00 ... 2080-11-20 12:00:00\n",
      "  * grid_latitude   (grid_latitude) float32 -2.49 -2.41 -2.33 ... 2.39 2.47 2.55\n",
      "  * grid_longitude  (grid_longitude) float32 357.9 358.0 358.1 ... 362.9 363.0\n",
      "  * model           (model) object '50% Run 1' '50% Run 2' '50% Run 3'\n",
      "    season          (time) int64 0 0 0 0 0 0 0 0 0 0 0 ... 3 3 3 3 3 3 3 3 3 3 3\n",
      "  * source          (source) object 'CPM' 'GCM'\n",
      "Data variables:\n",
      "    rotated_latitude_longitude  (source, model, sample_id, time) float64 -2.1...\n",
      "    time_bnds                   (source, model, sample_id, time, bnds) object ...\n",
      "    grid_latitude_bnds          (source, model, sample_id, time, grid_latitude, bnds) float32 ...\n",
      "    grid_longitude_bnds         (source, model, sample_id, time, grid_longitude, bnds) float32 ...\n",
      "    pred_pr                     (source, model, sample_id, time, grid_latitude, grid_longitude) float32 ...\n",
      "    psl                         (source, time, grid_latitude, grid_longitude) float32 ...\n",
      "    target_pr                   (source, time, grid_latitude, grid_longitude) float32 ...\n",
      "    temp250                     (source, time, grid_latitude, grid_longitude) float32 ...\n",
      "    temp500                     (source, time, grid_latitude, grid_longitude) float32 ...\n",
      "    temp700                     (source, time, grid_latitude, grid_longitude) float32 ...\n",
      "    temp850                     (source, time, grid_latitude, grid_longitude) float32 ...\n",
      "    temp925                     (source, time, grid_latitude, grid_longitude) float32 ...\n",
      "    vorticity250                (source, time, grid_latitude, grid_longitude) float64 ...\n",
      "    vorticity500                (source, time, grid_latitude, grid_longitude) float64 ...\n",
      "    vorticity700                (source, time, grid_latitude, grid_longitude) float64 ...\n",
      "    vorticity850                (source, time, grid_latitude, grid_longitude) float64 ...\n",
      "    vorticity925                (source, time, grid_latitude, grid_longitude) float64 ...\n"
     ]
    }
   ],
   "source": [
    "split = \"val\"\n",
    "data_config = [\n",
    "    dict(\n",
    "        datasets = {\n",
    "            \"CPM\": \"bham_gcmx-4x_psl-temp-vort_random\",\n",
    "            \"GCM\": \"bham_60km-4x_psl-temp-vort_random\",\n",
    "        },\n",
    "        runs = [\n",
    "            (\"score-sde/subvpsde/xarray_cncsnpp_continuous/bham-4x_PslTV_random-IstanTsqrturrecen\", \"epoch-50\", \"50% Run 1\"),\n",
    "            (\"score-sde/subvpsde/xarray_cncsnpp_continuous/bham-4x_PslTV_random-IstanTsqrturrecen-2\", \"epoch-50\", \"50% Run 2\"),\n",
    "            (\"score-sde/subvpsde/xarray_cncsnpp_continuous/bham-4x_PslTV_random-IstanTsqrturrecen-3\", \"epoch-50\", \"50% Run 3\"),\n",
    "        ]\n",
    "    ),\n",
    "]\n",
    "\n",
    "merged_ds_50pc = xr.merge([ prep_eval_data(c[\"datasets\"], c[\"runs\"], split) for c in data_config ])\n",
    "\n",
    "print(merged_ds_50pc.dims)\n",
    "print(merged_ds_50pc.coords)\n",
    "print(merged_ds_50pc.data_vars)\n",
    "\n",
    "target_pr_50pc = merged_ds_50pc.sel(source=\"CPM\")[\"target_pr\"]\n",
    "\n",
    "distribution_figure(merged_ds_50pc, target_pr_50pc, quantiles, \"Distribution of pixel values\")\n",
    "\n",
    "plot_mean_bias(merged_ds_50pc)"
   ]
  },
  {
   "cell_type": "markdown",
   "id": "7c7c443b-f484-4222-9444-623ca81eee96",
   "metadata": {
    "tags": []
   },
   "source": [
    "## Full training set, 50% validation set"
   ]
  },
  {
   "cell_type": "code",
   "execution_count": null,
   "id": "dfa02422-753c-4033-b990-219d6b2fb9fd",
   "metadata": {},
   "outputs": [],
   "source": []
  }
 ],
 "metadata": {
  "kernelspec": {
   "display_name": "Python 3 (ipykernel)",
   "language": "python",
   "name": "python3"
  }
 },
 "nbformat": 4,
 "nbformat_minor": 5
}
