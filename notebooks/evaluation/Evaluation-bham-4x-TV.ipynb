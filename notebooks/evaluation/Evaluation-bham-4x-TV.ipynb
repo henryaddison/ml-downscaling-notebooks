{
 "cells": [
  {
   "cell_type": "markdown",
   "id": "345a1b27-1df4-40e8-a2f9-0ff817ad8241",
   "metadata": {
    "tags": []
   },
   "source": [
    "# Evaluation of temp, vorticity 60km -> 2.2km-4x over Birmingham\n",
    "\n",
    "Compare:\n",
    "\n",
    "* original: input xfm - standardize with global mean and variance, unit range (based on active set training split max), 2x - 1; target xfm - sqrt, unit range (training domain training split max), 2x - 1 (this one is implemented on forward pass in network, uninverted); step-based training scheme\n",
    "\n",
    "with\n",
    "\n",
    "* Input are always standardized, target is always sqrt\n",
    "* Then try different version of applying unit range to inputs and target.\n",
    "\n",
    "NO PIXELMMS\n",
    "\n",
    "## Diff model\n",
    "\n",
    "8-channels loc-spec params\n",
    "\n",
    "Inputs: 5 levels of spechum, temp and vorticity\n",
    "\n",
    "Target domain and resolution: 64x64 2.2km-4x England and Wales\n",
    "\n",
    "Input resolution: 60km/gcmx\n",
    "\n",
    "Input transforms are fitted on dataset in use (ie separate GCM and CPM versions) while target transform is fitted only at training on the CPM dataset"
   ]
  },
  {
   "cell_type": "code",
   "execution_count": null,
   "id": "48718f5d-f1f8-4ccc-8089-a90b8e505b7c",
   "metadata": {
    "tags": []
   },
   "outputs": [],
   "source": [
    "%reload_ext autoreload\n",
    "\n",
    "%autoreload 2\n",
    "\n",
    "import math\n",
    "import os\n",
    "\n",
    "import iris\n",
    "import iris.analysis.cartography\n",
    "import IPython\n",
    "import matplotlib\n",
    "import matplotlib.pyplot as plt\n",
    "import numpy as np\n",
    "import xarray as xr\n",
    "\n",
    "from ml_downscaling_emulator.helpers import plot_over_ts\n",
    "from ml_downscaling_emulator.utils import cp_model_rotated_pole, plot_grid, prep_eval_data, show_samples, distribution_figure, plot_mean_bias, plot_std, plot_psd"
   ]
  },
  {
   "cell_type": "code",
   "execution_count": null,
   "id": "361fe73f-2d52-4862-8b8c-ab7604ad6c29",
   "metadata": {
    "tags": []
   },
   "outputs": [],
   "source": [
    "split = \"val\""
   ]
  },
  {
   "cell_type": "code",
   "execution_count": null,
   "id": "b5f9b7b8-2106-49fc-a564-410e20198727",
   "metadata": {
    "tags": []
   },
   "outputs": [],
   "source": [
    "datasets = {\n",
    "    \"CPM\": \"bham_gcmx-4x_spechum-temp-vort_random\",\n",
    "    \"GCM\": \"bham_60km-4x_spechum-temp-vort_random\",\n",
    "}\n",
    "\n",
    "runs = [\n",
    "    # (\"bham-4x_STV_random-Iv1Tv1\", \"epoch-100\", \"STV v1;v1\"),\n",
    "    (\"score-sde/subvpsde/xarray_cncsnpp_continuous/bham-4x_STV_random-ls8-IPTS\", \"checkpoint-20\", \"STV original (Stan,UR,2x-1;Sqrt,UR)\"),\n",
    "    (\"score-sde/subvpsde/xarray_cncsnpp_continuous/bham-4x_STV_random-IStanTSqrt\", \"epoch-100\", \"STV Stan;Sqrt\"),\n",
    "]\n",
    "stv_ds = prep_eval_data(datasets, runs, split)"
   ]
  },
  {
   "cell_type": "code",
   "execution_count": null,
   "id": "73af3c99-77cd-4116-8ff0-246923ff2f20",
   "metadata": {},
   "outputs": [],
   "source": [
    "datasets = {\n",
    "    \"CPM\": \"bham_gcmx-4x_temp-vort_random\",\n",
    "    \"GCM\": \"bham_60km-4x_temp-vort_random\",\n",
    "}\n",
    "\n",
    "runs = [\n",
    "    (\"score-sde/subvpsde/xarray_cncsnpp_continuous/bham-4x_TV_random-IstanTsqrt\", \"epoch-100\", \"TV Stan;Sqrt\"),\n",
    "]\n",
    "tv_ds = prep_eval_data(datasets, runs, split)"
   ]
  },
  {
   "cell_type": "code",
   "execution_count": null,
   "id": "9470ff7d-e240-4985-8205-1b465ebb394b",
   "metadata": {},
   "outputs": [],
   "source": [
    "# datasets = {\n",
    "#     \"CPM\": \"bham_gcmx-4x_tempgrad-vort_random\",\n",
    "#     \"GCM\": \"bham_60km-4x_tempgrad-vort_random\",\n",
    "# }\n",
    "\n",
    "# runs = [\n",
    "#     (\"score-sde/subvpsde/xarray_cncsnpp_continuous/bham-4x_TgV_random-IstanTsqrt\", \"epoch-100\", \"TgV Stan;Sqrt\"),\n",
    "# ]\n",
    "# tgv_ds = prep_eval_data(datasets, runs, split)"
   ]
  },
  {
   "cell_type": "code",
   "execution_count": null,
   "id": "c83b0e7c-7fcc-4d81-95cc-ce65faa86d89",
   "metadata": {
    "tags": []
   },
   "outputs": [],
   "source": [
    "merged_ds = xr.merge([stv_ds, tv_ds])#, tgv_ds])\n",
    "merged_ds"
   ]
  },
  {
   "cell_type": "code",
   "execution_count": null,
   "id": "72d6e1f8-1d26-47c1-b513-c68fd145bc9f",
   "metadata": {
    "tags": []
   },
   "outputs": [],
   "source": [
    "total_target_pr = merged_ds[\"target_pr\"].sel(source=\"CPM\").mean(dim=[\"grid_longitude\", \"grid_latitude\"])"
   ]
  },
  {
   "cell_type": "markdown",
   "id": "c0cb0adc-12dc-4bd8-8224-cb2b1afeae6a",
   "metadata": {},
   "source": [
    "## Samples"
   ]
  },
  {
   "cell_type": "code",
   "execution_count": null,
   "id": "8412395c-01e1-4d84-a42d-152029f82fdd",
   "metadata": {
    "tags": []
   },
   "outputs": [],
   "source": [
    "for source, sourced_ds in merged_ds.groupby(\"source\"):\n",
    "    IPython.display.display_html(f\"<h1>{source}</h1>\", raw=True)\n",
    "    for season, seasonal_ds in sourced_ds.groupby(\"time.season\"):\n",
    "        IPython.display.display_html(f\"<h2>{season}</h2>\", raw=True)\n",
    "\n",
    "        std = seasonal_ds[\"target_pr\"].std(dim=[\"grid_longitude\", \"grid_latitude\"])#/merged_ds.sel(source=\"CPM\")[\"target_pr\"].mean(dim=[\"grid_longitude\", \"grid_latitude\"])\n",
    "        std_sorted_time = std.sortby(-std)[\"time\"].values\n",
    "        mean = seasonal_ds[\"target_pr\"].mean(dim=[\"grid_longitude\", \"grid_latitude\"])\n",
    "        mean_sorted_time = mean.sortby(-mean)[\"time\"].values\n",
    "\n",
    "        timestamp_chunks = {\n",
    "            # \"very wet\": mean_sorted_time[20],\n",
    "            \"very varied\": std_sorted_time[20],\n",
    "            \"quiet wet\": mean_sorted_time[math.ceil(len(mean_sorted_time)*0.20)],\n",
    "            # \"quiet varied\": std_sorted_time[math.ceil(len(std_sorted_time)*0.20):math.ceil(len(std_sorted_time)*0.20)+1],\n",
    "            \"very dry\": mean_sorted_time[-20],\n",
    "        }\n",
    "\n",
    "        for desc, timestamps in timestamp_chunks.items():\n",
    "            IPython.display.display_html(f\"<h3>{desc}</h3>\", raw=True)\n",
    "            show_samples(seasonal_ds, [timestamps])"
   ]
  },
  {
   "cell_type": "markdown",
   "id": "1104e57b-f3c0-4a56-831a-ba99d91f05a4",
   "metadata": {},
   "source": [
    "## Frequency distribution"
   ]
  },
  {
   "cell_type": "markdown",
   "id": "13dc9a74-e90b-493f-a31b-0056c4ccc8e3",
   "metadata": {
    "tags": []
   },
   "source": [
    "### Pixel"
   ]
  },
  {
   "cell_type": "code",
   "execution_count": null,
   "id": "4c5b48a3-1412-4af2-b6ed-58bd6c836703",
   "metadata": {
    "tags": []
   },
   "outputs": [],
   "source": [
    "# quantiles = np.concatenate([np.linspace(0.1,0.9,9), np.linspace(0.91,0.99,9), np.linspace(0.991,0.999,9), 0.9999999])\n",
    "quantiles = np.concatenate([np.linspace((1-10**(i+1))+(10**i), (1-10**i), 9) for i in range(-1, -8, -1)])\n",
    "\n",
    "distribution_figure(merged_ds, quantiles, \"Distribution of pixel values\")"
   ]
  },
  {
   "cell_type": "markdown",
   "id": "b958f3e2-e6bd-4aaf-a15e-6d57cdd369bb",
   "metadata": {
    "tags": []
   },
   "source": [
    "### Mean over space"
   ]
  },
  {
   "cell_type": "code",
   "execution_count": null,
   "id": "f0bc8849-d68f-4e7c-8cfe-344c76b1447a",
   "metadata": {
    "tags": []
   },
   "outputs": [],
   "source": [
    "quantiles = np.concatenate([np.linspace(0.1,0.8,8), np.linspace(0.9,0.99,10), np.linspace(0.991,0.999,9)])\n",
    "\n",
    "distribution_figure(merged_ds[[\"target_pr\", \"pred_pr\"]].mean(dim=[\"grid_longitude\", \"grid_latitude\"]), quantiles, \"Distribution of mean precip over space\")"
   ]
  },
  {
   "cell_type": "markdown",
   "id": "f4ba822c-b8d8-4c2a-b629-2bdf43a90bd2",
   "metadata": {
    "tags": []
   },
   "source": [
    "## Bias"
   ]
  },
  {
   "cell_type": "code",
   "execution_count": null,
   "id": "f2b208f0-d33a-4c72-809e-4d992145b736",
   "metadata": {
    "tags": []
   },
   "outputs": [],
   "source": [
    "plot_mean_bias(merged_ds)"
   ]
  },
  {
   "cell_type": "markdown",
   "id": "3691d022-0822-4799-8c0d-93224fe35783",
   "metadata": {
    "tags": []
   },
   "source": [
    "## Standard deviation"
   ]
  },
  {
   "cell_type": "code",
   "execution_count": null,
   "id": "a8de95ee-f003-4c5c-ac21-5b197db39d57",
   "metadata": {
    "tags": []
   },
   "outputs": [],
   "source": [
    "plot_std(merged_ds)"
   ]
  },
  {
   "cell_type": "markdown",
   "id": "34f88210-d8f8-4583-9474-7244f5a73c8d",
   "metadata": {
    "tags": []
   },
   "source": [
    "## PSD"
   ]
  },
  {
   "cell_type": "code",
   "execution_count": null,
   "id": "39926c4c-8cb8-4a25-8795-ff124ed2132f",
   "metadata": {},
   "outputs": [],
   "source": [
    "simulation_data = {\"CPM Target\": merged_ds.sel(source=\"CPM\")[\"target_pr\"], \"GCM Target\": merged_ds.sel(source=\"GCM\")[\"target_pr\"]}\n",
    "ml_data = { f\"{source} {model} Sample\": merged_ds.sel(source=source, model=model)[\"pred_pr\"] for model in merged_ds[\"model\"].values for source in [\"CPM\"] }\n",
    "plot_psd(ml_data | simulation_data)\n",
    "\n",
    "simulation_data = {\"CPM Target\": merged_ds.sel(source=\"CPM\")[\"target_pr\"], \"GCM Target\": merged_ds.sel(source=\"GCM\")[\"target_pr\"]}\n",
    "ml_data = { f\"{source} {model} Sample\": merged_ds.sel(source=source, model=model)[\"pred_pr\"] for model in merged_ds[\"model\"].values for source in [\"GCM\"] }\n",
    "plot_psd(ml_data | simulation_data)"
   ]
  },
  {
   "cell_type": "markdown",
   "id": "7efc24ed-7d89-4e59-be7f-55c944901f00",
   "metadata": {
    "jp-MarkdownHeadingCollapsed": true,
    "tags": []
   },
   "source": [
    "## Correlation"
   ]
  },
  {
   "cell_type": "raw",
   "id": "64126851-1be2-4e74-9db3-8f6827b5abe2",
   "metadata": {},
   "source": [
    "target_corr = xr.corr(merged_ds[\"vorticity850\"], merged_ds[\"target_pr\"], dim=\"time\")\n",
    "sample_corr = xr.corr(merged_ds[\"vorticity850\"], merged_ds[\"pred_pr\"], dim=\"time\").mean(dim=\"sample_id\")"
   ]
  },
  {
   "cell_type": "raw",
   "id": "6dedf78c-bdc8-463a-b122-b15f457231a2",
   "metadata": {},
   "source": [
    "fig, axd = plt.subplot_mosaic([[\"Sample\", \"Target\"]], figsize=(12, 6), subplot_kw=dict(projection=cp_model_rotated_pole), constrained_layout=True)\n",
    "\n",
    "ax = axd[\"Sample\"]\n",
    "plot_grid(sample_corr, ax, title=\"Sample corr\", norm=None, cmap=\"RdBu\", centre=0, add_colorbar=True)\n",
    "\n",
    "ax = axd[\"Target\"]\n",
    "plot_grid(target_corr, ax, title=\"Target corr\", norm=None, cmap=\"RdBu\", center=0, add_colorbar=True)"
   ]
  }
 ],
 "metadata": {
  "kernelspec": {
   "display_name": "Python 3 (ipykernel)",
   "language": "python",
   "name": "python3"
  },
  "language_info": {
   "codemirror_mode": {
    "name": "ipython",
    "version": 3
   },
   "file_extension": ".py",
   "mimetype": "text/x-python",
   "name": "python",
   "nbconvert_exporter": "python",
   "pygments_lexer": "ipython3",
   "version": "3.9.13"
  }
 },
 "nbformat": 4,
 "nbformat_minor": 5
}
